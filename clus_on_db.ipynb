{
  "cells": [
    {
      "cell_type": "code",
      "source": [
        "import pandas as pd\n",
        "import numpy as np\n",
        "import matplotlib.pyplot as plt"
      ],
      "metadata": {
        "id": "5YsowisEYmp5"
      },
      "execution_count": 10,
      "outputs": []
    },
    {
      "cell_type": "code",
      "source": [
        "dataframe = pd.read_csv('userdb.csv')\n",
        "print(dataframe.iloc[:,:len(dataframe)+1])\n",
        "x = dataframe.iloc[:,0:9].values\n",
        "print(x)"
      ],
      "metadata": {
        "id": "bzUeOLqnY7N6",
        "outputId": "90081c61-e8d6-48b0-8bed-12752c5d17aa",
        "colab": {
          "base_uri": "https://localhost:8080/"
        }
      },
      "execution_count": 11,
      "outputs": [
        {
          "output_type": "stream",
          "name": "stdout",
          "text": [
            "     AIML  Appdev  Books  Competitive programming  Gaming  Gen-z homour  \\\n",
            "0       0       1      1                        0       0             1   \n",
            "1       0       1      0                        0       0             0   \n",
            "2       1       1      1                        0       1             0   \n",
            "3       1       1      0                        1       0             0   \n",
            "4       0       0      0                        1       1             1   \n",
            "..    ...     ...    ...                      ...     ...           ...   \n",
            "96      1       1      0                        0       1             0   \n",
            "97      0       1      1                        1       1             0   \n",
            "98      0       1      0                        1       1             1   \n",
            "99      0       1      1                        0       0             0   \n",
            "100     0       1      1                        1       0             0   \n",
            "\n",
            "     Music  Normal humour  Webdev  cluster     name  \n",
            "0        1              1       1        0    0!com  \n",
            "1        0              1       0        0    1!com  \n",
            "2        0              0       0        0   10!com  \n",
            "3        1              0       0        0  100!com  \n",
            "4        0              0       0        0   11!com  \n",
            "..     ...            ...     ...      ...      ...  \n",
            "96       1              1       1        0   95!com  \n",
            "97       1              0       0        0   96!com  \n",
            "98       0              1       1        0   97!com  \n",
            "99       0              1       1        0   98!com  \n",
            "100      1              1       1        0   99!com  \n",
            "\n",
            "[101 rows x 11 columns]\n",
            "[[0 1 1 0 0 1 1 1 1]\n",
            " [0 1 0 0 0 0 0 1 0]\n",
            " [1 1 1 0 1 0 0 0 0]\n",
            " [1 1 0 1 0 0 1 0 0]\n",
            " [0 0 0 1 1 1 0 0 0]\n",
            " [0 0 1 1 0 1 0 0 1]\n",
            " [1 1 0 1 1 1 1 0 0]\n",
            " [0 0 0 0 1 0 1 1 0]\n",
            " [1 0 0 1 1 0 0 1 0]\n",
            " [1 1 0 0 1 0 1 1 1]\n",
            " [0 1 0 0 1 1 0 1 0]\n",
            " [0 0 1 1 0 1 1 1 1]\n",
            " [0 0 1 0 0 1 1 0 1]\n",
            " [1 1 1 0 1 1 0 1 0]\n",
            " [1 1 0 0 0 1 1 0 0]\n",
            " [1 0 1 0 1 1 1 0 1]\n",
            " [1 1 1 1 1 0 1 1 1]\n",
            " [1 1 1 1 1 0 1 0 0]\n",
            " [1 0 1 0 0 0 0 0 1]\n",
            " [1 1 1 0 1 1 1 0 0]\n",
            " [1 0 0 1 1 1 1 0 1]\n",
            " [0 0 0 0 0 0 0 0 0]\n",
            " [0 0 0 0 1 0 1 0 1]\n",
            " [0 0 1 0 0 0 1 0 0]\n",
            " [0 0 1 1 1 1 1 1 1]\n",
            " [0 0 1 1 0 1 0 0 1]\n",
            " [1 0 0 0 1 1 1 0 1]\n",
            " [0 1 1 1 0 0 0 0 0]\n",
            " [0 0 1 0 0 0 0 0 0]\n",
            " [1 0 1 0 0 0 0 1 0]\n",
            " [0 0 1 1 0 0 0 1 0]\n",
            " [0 1 0 1 1 1 0 0 1]\n",
            " [0 1 1 1 0 1 0 1 1]\n",
            " [0 0 1 1 1 0 0 0 1]\n",
            " [0 0 1 1 1 1 1 1 1]\n",
            " [1 1 0 1 1 1 1 0 0]\n",
            " [0 0 1 0 0 1 1 1 0]\n",
            " [1 1 1 0 0 1 0 0 0]\n",
            " [1 1 1 0 1 1 1 0 1]\n",
            " [1 1 1 1 1 0 0 0 0]\n",
            " [0 0 1 0 0 0 1 0 1]\n",
            " [1 1 0 0 0 1 0 1 1]\n",
            " [0 0 1 0 1 0 0 0 1]\n",
            " [0 0 0 0 0 1 0 0 0]\n",
            " [0 1 1 1 1 0 0 1 0]\n",
            " [1 1 1 1 1 0 1 1 1]\n",
            " [1 0 1 1 1 0 0 1 1]\n",
            " [0 0 0 0 0 0 1 1 1]\n",
            " [0 0 0 1 1 1 0 0 1]\n",
            " [0 0 0 1 1 0 0 1 1]\n",
            " [1 0 0 0 0 0 1 1 1]\n",
            " [1 0 1 0 1 0 0 0 1]\n",
            " [1 1 0 1 0 1 0 0 1]\n",
            " [0 0 1 1 0 0 0 1 0]\n",
            " [0 0 0 1 1 0 1 1 1]\n",
            " [0 1 1 1 1 1 0 1 0]\n",
            " [1 0 1 1 0 1 1 0 0]\n",
            " [1 0 1 1 0 0 1 0 1]\n",
            " [0 0 1 1 0 0 1 0 1]\n",
            " [0 0 1 1 1 1 0 0 0]\n",
            " [0 0 1 1 0 1 0 1 1]\n",
            " [1 0 0 1 1 0 0 1 0]\n",
            " [1 0 0 0 0 0 1 1 1]\n",
            " [1 0 1 0 0 1 1 1 1]\n",
            " [0 1 1 1 0 1 1 0 1]\n",
            " [1 1 0 0 1 1 1 0 0]\n",
            " [1 0 1 0 0 0 1 0 1]\n",
            " [0 1 0 0 1 0 1 0 0]\n",
            " [0 0 0 1 0 0 1 0 1]\n",
            " [0 1 1 0 1 0 0 1 1]\n",
            " [1 0 1 0 1 1 0 0 0]\n",
            " [0 0 1 0 0 0 0 1 0]\n",
            " [0 1 0 1 0 0 0 1 1]\n",
            " [0 1 1 0 0 1 0 1 0]\n",
            " [0 1 0 1 0 0 0 0 1]\n",
            " [0 1 1 1 0 1 0 1 1]\n",
            " [1 1 1 0 1 0 0 0 1]\n",
            " [1 0 1 1 0 0 0 0 0]\n",
            " [0 0 0 1 0 1 1 1 1]\n",
            " [0 1 1 0 0 0 1 1 1]\n",
            " [1 1 0 1 1 0 0 0 0]\n",
            " [1 1 1 0 1 1 0 0 1]\n",
            " [0 1 0 1 0 1 0 0 0]\n",
            " [0 1 1 0 1 1 1 1 1]\n",
            " [1 0 1 0 0 1 0 0 0]\n",
            " [0 0 0 1 0 0 1 0 1]\n",
            " [0 1 0 0 0 1 1 1 1]\n",
            " [1 0 0 1 1 1 0 0 1]\n",
            " [1 1 1 1 1 1 0 1 1]\n",
            " [1 0 0 0 1 0 0 0 1]\n",
            " [1 0 1 1 0 0 0 0 1]\n",
            " [1 0 0 1 0 1 1 1 1]\n",
            " [0 0 0 0 0 1 0 0 1]\n",
            " [1 0 1 1 0 1 0 0 0]\n",
            " [0 0 1 0 0 0 1 0 1]\n",
            " [1 0 0 1 1 1 1 0 1]\n",
            " [1 1 0 0 1 0 1 1 1]\n",
            " [0 1 1 1 1 0 1 0 0]\n",
            " [0 1 0 1 1 1 0 1 1]\n",
            " [0 1 1 0 0 0 0 1 1]\n",
            " [0 1 1 1 0 0 1 1 1]]\n"
          ]
        }
      ]
    },
    {
      "cell_type": "code",
      "source": [
        "from sklearn.cluster import KMeans\n",
        "wcss = []\n",
        "for i in range(1,50):\n",
        "    kmeans = KMeans(n_clusters = i,init = 'k-means++', random_state=0)\n",
        "    kmeans.fit(x)\n",
        "    wcss.append(kmeans.inertia_)\n",
        "plt.plot(range(1,50), wcss, color = 'blue')\n",
        "plt.title('Elbow Method')\n",
        "plt.xlabel('No. of Clusters')\n",
        "plt.ylabel('WCSS value')\n",
        "plt.show()"
      ],
      "metadata": {
        "id": "6cKwQX1WZd7E",
        "outputId": "84acd036-4e1a-4a0d-83b6-32492978bc22",
        "colab": {
          "base_uri": "https://localhost:8080/",
          "height": 1000
        }
      },
      "execution_count": 12,
      "outputs": [
        {
          "output_type": "stream",
          "name": "stderr",
          "text": [
            "/usr/local/lib/python3.10/dist-packages/sklearn/cluster/_kmeans.py:870: FutureWarning: The default value of `n_init` will change from 10 to 'auto' in 1.4. Set the value of `n_init` explicitly to suppress the warning\n",
            "  warnings.warn(\n",
            "/usr/local/lib/python3.10/dist-packages/sklearn/cluster/_kmeans.py:870: FutureWarning: The default value of `n_init` will change from 10 to 'auto' in 1.4. Set the value of `n_init` explicitly to suppress the warning\n",
            "  warnings.warn(\n",
            "/usr/local/lib/python3.10/dist-packages/sklearn/cluster/_kmeans.py:870: FutureWarning: The default value of `n_init` will change from 10 to 'auto' in 1.4. Set the value of `n_init` explicitly to suppress the warning\n",
            "  warnings.warn(\n",
            "/usr/local/lib/python3.10/dist-packages/sklearn/cluster/_kmeans.py:870: FutureWarning: The default value of `n_init` will change from 10 to 'auto' in 1.4. Set the value of `n_init` explicitly to suppress the warning\n",
            "  warnings.warn(\n",
            "/usr/local/lib/python3.10/dist-packages/sklearn/cluster/_kmeans.py:870: FutureWarning: The default value of `n_init` will change from 10 to 'auto' in 1.4. Set the value of `n_init` explicitly to suppress the warning\n",
            "  warnings.warn(\n",
            "/usr/local/lib/python3.10/dist-packages/sklearn/cluster/_kmeans.py:870: FutureWarning: The default value of `n_init` will change from 10 to 'auto' in 1.4. Set the value of `n_init` explicitly to suppress the warning\n",
            "  warnings.warn(\n",
            "/usr/local/lib/python3.10/dist-packages/sklearn/cluster/_kmeans.py:870: FutureWarning: The default value of `n_init` will change from 10 to 'auto' in 1.4. Set the value of `n_init` explicitly to suppress the warning\n",
            "  warnings.warn(\n",
            "/usr/local/lib/python3.10/dist-packages/sklearn/cluster/_kmeans.py:870: FutureWarning: The default value of `n_init` will change from 10 to 'auto' in 1.4. Set the value of `n_init` explicitly to suppress the warning\n",
            "  warnings.warn(\n",
            "/usr/local/lib/python3.10/dist-packages/sklearn/cluster/_kmeans.py:870: FutureWarning: The default value of `n_init` will change from 10 to 'auto' in 1.4. Set the value of `n_init` explicitly to suppress the warning\n",
            "  warnings.warn(\n",
            "/usr/local/lib/python3.10/dist-packages/sklearn/cluster/_kmeans.py:870: FutureWarning: The default value of `n_init` will change from 10 to 'auto' in 1.4. Set the value of `n_init` explicitly to suppress the warning\n",
            "  warnings.warn(\n",
            "/usr/local/lib/python3.10/dist-packages/sklearn/cluster/_kmeans.py:870: FutureWarning: The default value of `n_init` will change from 10 to 'auto' in 1.4. Set the value of `n_init` explicitly to suppress the warning\n",
            "  warnings.warn(\n",
            "/usr/local/lib/python3.10/dist-packages/sklearn/cluster/_kmeans.py:870: FutureWarning: The default value of `n_init` will change from 10 to 'auto' in 1.4. Set the value of `n_init` explicitly to suppress the warning\n",
            "  warnings.warn(\n",
            "/usr/local/lib/python3.10/dist-packages/sklearn/cluster/_kmeans.py:870: FutureWarning: The default value of `n_init` will change from 10 to 'auto' in 1.4. Set the value of `n_init` explicitly to suppress the warning\n",
            "  warnings.warn(\n",
            "/usr/local/lib/python3.10/dist-packages/sklearn/cluster/_kmeans.py:870: FutureWarning: The default value of `n_init` will change from 10 to 'auto' in 1.4. Set the value of `n_init` explicitly to suppress the warning\n",
            "  warnings.warn(\n",
            "/usr/local/lib/python3.10/dist-packages/sklearn/cluster/_kmeans.py:870: FutureWarning: The default value of `n_init` will change from 10 to 'auto' in 1.4. Set the value of `n_init` explicitly to suppress the warning\n",
            "  warnings.warn(\n",
            "/usr/local/lib/python3.10/dist-packages/sklearn/cluster/_kmeans.py:870: FutureWarning: The default value of `n_init` will change from 10 to 'auto' in 1.4. Set the value of `n_init` explicitly to suppress the warning\n",
            "  warnings.warn(\n",
            "/usr/local/lib/python3.10/dist-packages/sklearn/cluster/_kmeans.py:870: FutureWarning: The default value of `n_init` will change from 10 to 'auto' in 1.4. Set the value of `n_init` explicitly to suppress the warning\n",
            "  warnings.warn(\n",
            "/usr/local/lib/python3.10/dist-packages/sklearn/cluster/_kmeans.py:870: FutureWarning: The default value of `n_init` will change from 10 to 'auto' in 1.4. Set the value of `n_init` explicitly to suppress the warning\n",
            "  warnings.warn(\n",
            "/usr/local/lib/python3.10/dist-packages/sklearn/cluster/_kmeans.py:870: FutureWarning: The default value of `n_init` will change from 10 to 'auto' in 1.4. Set the value of `n_init` explicitly to suppress the warning\n",
            "  warnings.warn(\n",
            "/usr/local/lib/python3.10/dist-packages/sklearn/cluster/_kmeans.py:870: FutureWarning: The default value of `n_init` will change from 10 to 'auto' in 1.4. Set the value of `n_init` explicitly to suppress the warning\n",
            "  warnings.warn(\n",
            "/usr/local/lib/python3.10/dist-packages/sklearn/cluster/_kmeans.py:870: FutureWarning: The default value of `n_init` will change from 10 to 'auto' in 1.4. Set the value of `n_init` explicitly to suppress the warning\n",
            "  warnings.warn(\n",
            "/usr/local/lib/python3.10/dist-packages/sklearn/cluster/_kmeans.py:870: FutureWarning: The default value of `n_init` will change from 10 to 'auto' in 1.4. Set the value of `n_init` explicitly to suppress the warning\n",
            "  warnings.warn(\n",
            "/usr/local/lib/python3.10/dist-packages/sklearn/cluster/_kmeans.py:870: FutureWarning: The default value of `n_init` will change from 10 to 'auto' in 1.4. Set the value of `n_init` explicitly to suppress the warning\n",
            "  warnings.warn(\n",
            "/usr/local/lib/python3.10/dist-packages/sklearn/cluster/_kmeans.py:870: FutureWarning: The default value of `n_init` will change from 10 to 'auto' in 1.4. Set the value of `n_init` explicitly to suppress the warning\n",
            "  warnings.warn(\n",
            "/usr/local/lib/python3.10/dist-packages/sklearn/cluster/_kmeans.py:870: FutureWarning: The default value of `n_init` will change from 10 to 'auto' in 1.4. Set the value of `n_init` explicitly to suppress the warning\n",
            "  warnings.warn(\n",
            "/usr/local/lib/python3.10/dist-packages/sklearn/cluster/_kmeans.py:870: FutureWarning: The default value of `n_init` will change from 10 to 'auto' in 1.4. Set the value of `n_init` explicitly to suppress the warning\n",
            "  warnings.warn(\n",
            "/usr/local/lib/python3.10/dist-packages/sklearn/cluster/_kmeans.py:870: FutureWarning: The default value of `n_init` will change from 10 to 'auto' in 1.4. Set the value of `n_init` explicitly to suppress the warning\n",
            "  warnings.warn(\n",
            "/usr/local/lib/python3.10/dist-packages/sklearn/cluster/_kmeans.py:870: FutureWarning: The default value of `n_init` will change from 10 to 'auto' in 1.4. Set the value of `n_init` explicitly to suppress the warning\n",
            "  warnings.warn(\n",
            "/usr/local/lib/python3.10/dist-packages/sklearn/cluster/_kmeans.py:870: FutureWarning: The default value of `n_init` will change from 10 to 'auto' in 1.4. Set the value of `n_init` explicitly to suppress the warning\n",
            "  warnings.warn(\n",
            "/usr/local/lib/python3.10/dist-packages/sklearn/cluster/_kmeans.py:870: FutureWarning: The default value of `n_init` will change from 10 to 'auto' in 1.4. Set the value of `n_init` explicitly to suppress the warning\n",
            "  warnings.warn(\n",
            "/usr/local/lib/python3.10/dist-packages/sklearn/cluster/_kmeans.py:870: FutureWarning: The default value of `n_init` will change from 10 to 'auto' in 1.4. Set the value of `n_init` explicitly to suppress the warning\n",
            "  warnings.warn(\n",
            "/usr/local/lib/python3.10/dist-packages/sklearn/cluster/_kmeans.py:870: FutureWarning: The default value of `n_init` will change from 10 to 'auto' in 1.4. Set the value of `n_init` explicitly to suppress the warning\n",
            "  warnings.warn(\n",
            "/usr/local/lib/python3.10/dist-packages/sklearn/cluster/_kmeans.py:870: FutureWarning: The default value of `n_init` will change from 10 to 'auto' in 1.4. Set the value of `n_init` explicitly to suppress the warning\n",
            "  warnings.warn(\n",
            "/usr/local/lib/python3.10/dist-packages/sklearn/cluster/_kmeans.py:870: FutureWarning: The default value of `n_init` will change from 10 to 'auto' in 1.4. Set the value of `n_init` explicitly to suppress the warning\n",
            "  warnings.warn(\n",
            "/usr/local/lib/python3.10/dist-packages/sklearn/cluster/_kmeans.py:870: FutureWarning: The default value of `n_init` will change from 10 to 'auto' in 1.4. Set the value of `n_init` explicitly to suppress the warning\n",
            "  warnings.warn(\n",
            "/usr/local/lib/python3.10/dist-packages/sklearn/cluster/_kmeans.py:870: FutureWarning: The default value of `n_init` will change from 10 to 'auto' in 1.4. Set the value of `n_init` explicitly to suppress the warning\n",
            "  warnings.warn(\n",
            "/usr/local/lib/python3.10/dist-packages/sklearn/cluster/_kmeans.py:870: FutureWarning: The default value of `n_init` will change from 10 to 'auto' in 1.4. Set the value of `n_init` explicitly to suppress the warning\n",
            "  warnings.warn(\n",
            "/usr/local/lib/python3.10/dist-packages/sklearn/cluster/_kmeans.py:870: FutureWarning: The default value of `n_init` will change from 10 to 'auto' in 1.4. Set the value of `n_init` explicitly to suppress the warning\n",
            "  warnings.warn(\n",
            "/usr/local/lib/python3.10/dist-packages/sklearn/cluster/_kmeans.py:870: FutureWarning: The default value of `n_init` will change from 10 to 'auto' in 1.4. Set the value of `n_init` explicitly to suppress the warning\n",
            "  warnings.warn(\n",
            "/usr/local/lib/python3.10/dist-packages/sklearn/cluster/_kmeans.py:870: FutureWarning: The default value of `n_init` will change from 10 to 'auto' in 1.4. Set the value of `n_init` explicitly to suppress the warning\n",
            "  warnings.warn(\n",
            "/usr/local/lib/python3.10/dist-packages/sklearn/cluster/_kmeans.py:870: FutureWarning: The default value of `n_init` will change from 10 to 'auto' in 1.4. Set the value of `n_init` explicitly to suppress the warning\n",
            "  warnings.warn(\n",
            "/usr/local/lib/python3.10/dist-packages/sklearn/cluster/_kmeans.py:870: FutureWarning: The default value of `n_init` will change from 10 to 'auto' in 1.4. Set the value of `n_init` explicitly to suppress the warning\n",
            "  warnings.warn(\n",
            "/usr/local/lib/python3.10/dist-packages/sklearn/cluster/_kmeans.py:870: FutureWarning: The default value of `n_init` will change from 10 to 'auto' in 1.4. Set the value of `n_init` explicitly to suppress the warning\n",
            "  warnings.warn(\n",
            "/usr/local/lib/python3.10/dist-packages/sklearn/cluster/_kmeans.py:870: FutureWarning: The default value of `n_init` will change from 10 to 'auto' in 1.4. Set the value of `n_init` explicitly to suppress the warning\n",
            "  warnings.warn(\n",
            "/usr/local/lib/python3.10/dist-packages/sklearn/cluster/_kmeans.py:870: FutureWarning: The default value of `n_init` will change from 10 to 'auto' in 1.4. Set the value of `n_init` explicitly to suppress the warning\n",
            "  warnings.warn(\n",
            "/usr/local/lib/python3.10/dist-packages/sklearn/cluster/_kmeans.py:870: FutureWarning: The default value of `n_init` will change from 10 to 'auto' in 1.4. Set the value of `n_init` explicitly to suppress the warning\n",
            "  warnings.warn(\n",
            "/usr/local/lib/python3.10/dist-packages/sklearn/cluster/_kmeans.py:870: FutureWarning: The default value of `n_init` will change from 10 to 'auto' in 1.4. Set the value of `n_init` explicitly to suppress the warning\n",
            "  warnings.warn(\n",
            "/usr/local/lib/python3.10/dist-packages/sklearn/cluster/_kmeans.py:870: FutureWarning: The default value of `n_init` will change from 10 to 'auto' in 1.4. Set the value of `n_init` explicitly to suppress the warning\n",
            "  warnings.warn(\n",
            "/usr/local/lib/python3.10/dist-packages/sklearn/cluster/_kmeans.py:870: FutureWarning: The default value of `n_init` will change from 10 to 'auto' in 1.4. Set the value of `n_init` explicitly to suppress the warning\n",
            "  warnings.warn(\n"
          ]
        },
        {
          "output_type": "display_data",
          "data": {
            "text/plain": [
              "<Figure size 640x480 with 1 Axes>"
            ],
            "image/png": "[encoded data removed]"
          },
          "metadata": {}
        }
      ]
    },
    {
      "cell_type": "code",
      "source": [
        "kno = 16\n",
        "kmeans = KMeans(n_clusters = kno, init = 'k-means++')\n",
        "y_kmeans = kmeans.fit_predict(x)\n",
        "print(y_kmeans)\n",
        "print(len(y_kmeans))"
      ],
      "metadata": {
        "id": "E4chWnBfZpqd",
        "outputId": "68cfe467-5aa0-48af-b83e-92a2ca1c5e96",
        "colab": {
          "base_uri": "https://localhost:8080/"
        }
      },
      "execution_count": 13,
      "outputs": [
        {
          "output_type": "stream",
          "name": "stdout",
          "text": [
            "[ 7  2 15  0 12  9  0 10 11  3 13  9  1  8  0  8  3  0 15  8  6  2  1  1\n",
            "  9  9  6  2  2  2  2 12  5 11  9  0 14  4  8 13  1  7 15  4 13  3 11 10\n",
            " 12 11 10 15 12  2 11 13  4  1  1  4  9 11 10 14  5  0  1  0  1 13  4  2\n",
            "  5  5 12  5 15  4  9  7  0  8 12  7  4  1  7  6  5 15  4  6 12  4  1  6\n",
            "  3 13 12  5  5]\n",
            "101\n"
          ]
        },
        {
          "output_type": "stream",
          "name": "stderr",
          "text": [
            "/usr/local/lib/python3.10/dist-packages/sklearn/cluster/_kmeans.py:870: FutureWarning: The default value of `n_init` will change from 10 to 'auto' in 1.4. Set the value of `n_init` explicitly to suppress the warning\n",
            "  warnings.warn(\n"
          ]
        }
      ]
    },
    {
      "cell_type": "code",
      "source": [
        "lists = []\n",
        "for i in range(kno):\n",
        "    listt = []\n",
        "    boolt = (y_kmeans == i)\n",
        "    c = 0\n",
        "    for j in boolt:\n",
        "        if j:\n",
        "            listt.append(dataframe['name'].iloc[c])\n",
        "            dataframe['cluster'].iloc[c] = i\n",
        "        c+=1\n",
        "    lists.append(listt)\n",
        "for i in lists:\n",
        "    print(i)\n",
        "print()\n",
        "print(dataframe)"
      ],
      "metadata": {
        "id": "WdjrIlQaaPPp",
        "outputId": "050eac3d-cddd-45f7-99e4-36cafc257463",
        "colab": {
          "base_uri": "https://localhost:8080/"
        }
      },
      "execution_count": 14,
      "outputs": [
        {
          "output_type": "stream",
          "name": "stdout",
          "text": [
            "['100!com', '13!com', '20!com', '23!com', '4!com', '67!com', '69!com', '80!com']\n",
            "['19!com', '28!com', '29!com', '44!com', '6!com', '60!com', '68!com', '7!com', '85!com', '93!com']\n",
            "['1!com', '27!com', '32!com', '33!com', '34!com', '35!com', '56!com', '72!com']\n",
            "['16!com', '22!com', '49!com', '95!com']\n",
            "['41!com', '47!com', '59!com', '61!com', '71!com', '78!com', '84!com', '9!com', '92!com']\n",
            "['37!com', '66!com', '73!com', '74!com', '76!com', '88!com', '98!com', '99!com']\n",
            "['26!com', '31!com', '87!com', '90!com', '94!com']\n",
            "['0!com', '45!com', '8!com', '83!com', '86!com']\n",
            "['2!com', '21!com', '25!com', '42!com', '81!com']\n",
            "['12!com', '18!com', '3!com', '30!com', '39!com', '62!com', '79!com']\n",
            "['14!com', '50!com', '53!com', '64!com']\n",
            "['15!com', '38!com', '5!com', '52!com', '57!com', '63!com']\n",
            "['11!com', '36!com', '51!com', '55!com', '75!com', '82!com', '91!com', '97!com']\n",
            "['17!com', '43!com', '48!com', '58!com', '70!com', '96!com']\n",
            "['40!com', '65!com']\n",
            "['10!com', '24!com', '46!com', '54!com', '77!com', '89!com']\n",
            "\n",
            "     AIML  Appdev  Books  Competitive programming  Gaming  Gen-z homour  \\\n",
            "0       0       1      1                        0       0             1   \n",
            "1       0       1      0                        0       0             0   \n",
            "2       1       1      1                        0       1             0   \n",
            "3       1       1      0                        1       0             0   \n",
            "4       0       0      0                        1       1             1   \n",
            "..    ...     ...    ...                      ...     ...           ...   \n",
            "96      1       1      0                        0       1             0   \n",
            "97      0       1      1                        1       1             0   \n",
            "98      0       1      0                        1       1             1   \n",
            "99      0       1      1                        0       0             0   \n",
            "100     0       1      1                        1       0             0   \n",
            "\n",
            "     Music  Normal humour  Webdev  cluster     name  \n",
            "0        1              1       1        7    0!com  \n",
            "1        0              1       0        2    1!com  \n",
            "2        0              0       0       15   10!com  \n",
            "3        1              0       0        0  100!com  \n",
            "4        0              0       0       12   11!com  \n",
            "..     ...            ...     ...      ...      ...  \n",
            "96       1              1       1        3   95!com  \n",
            "97       1              0       0       13   96!com  \n",
            "98       0              1       1       12   97!com  \n",
            "99       0              1       1        5   98!com  \n",
            "100      1              1       1        5   99!com  \n",
            "\n",
            "[101 rows x 11 columns]\n"
          ]
        },
        {
          "output_type": "stream",
          "name": "stderr",
          "text": [
            "<ipython-input-14-662bc2cdda57>:9: SettingWithCopyWarning: \n",
            "A value is trying to be set on a copy of a slice from a DataFrame\n",
            "\n",
            "See the caveats in the documentation: https://pandas.pydata.org/pandas-docs/stable/user_guide/indexing.html#returning-a-view-versus-a-copy\n",
            "  dataframe['cluster'].iloc[c] = i\n"
          ]
        }
      ]
    },
    {
      "cell_type": "code",
      "source": [
        "dataframe.to_csv('new.csv',index=False,header=True,encoding='utf-8')"
      ],
      "metadata": {
        "id": "3NQxMpsQax8n"
      },
      "execution_count": 15,
      "outputs": []
    },
    {
      "cell_type": "code",
      "source": [
        "centroids = kmeans.cluster_centers_\n",
        "centroids = np.array(centroids)\n",
        "col_headings = ['x0','x1','x2','x3','x4','x5','x6','x7','x8']\n",
        "centroid_df = pd.DataFrame(centroids, columns = col_headings)\n",
        "print(centroid_df)"
      ],
      "metadata": {
        "colab": {
          "base_uri": "https://localhost:8080/"
        },
        "id": "FXzkU8gJCo1i",
        "outputId": "b414a68e-609b-4cde-d5c9-40b9fe07f76c"
      },
      "execution_count": 16,
      "outputs": [
        {
          "output_type": "stream",
          "name": "stdout",
          "text": [
            "          x0            x1        x2        x3        x4        x5        x6  \\\n",
            "0   0.875000  1.000000e+00  0.125000  0.625000  0.750000  0.500000  0.875000   \n",
            "1   0.200000 -5.551115e-17  0.700000  0.400000  0.100000  0.100000  1.000000   \n",
            "2   0.125000  2.500000e-01  0.750000  0.375000  0.000000  0.000000  0.000000   \n",
            "3   1.000000  1.000000e+00  0.500000  0.500000  1.000000  0.000000  1.000000   \n",
            "4   0.777778  1.111111e-01  0.888889  0.555556  0.222222  0.777778  0.111111   \n",
            "5   0.125000  1.000000e+00  0.875000  0.750000  0.125000  0.625000  0.250000   \n",
            "6   1.000000 -5.551115e-17  0.000000  0.800000  0.800000  1.000000  0.800000   \n",
            "7   0.200000  1.000000e+00  0.600000  0.000000  0.200000  0.800000  0.800000   \n",
            "8   1.000000  8.000000e-01  1.000000  0.000000  1.000000  1.000000  0.600000   \n",
            "9   0.000000  0.000000e+00  0.857143  1.000000  0.285714  1.000000  0.571429   \n",
            "10  0.500000  0.000000e+00  0.000000  0.000000  0.250000  0.000000  1.000000   \n",
            "11  0.500000  0.000000e+00  0.333333  1.000000  1.000000  0.000000  0.166667   \n",
            "12  0.125000  6.250000e-01  0.000000  0.875000  0.500000  0.875000  0.000000   \n",
            "13  0.166667  1.000000e+00  0.833333  0.666667  1.000000  0.333333  0.166667   \n",
            "14  0.500000  0.000000e+00  1.000000  0.000000  0.000000  1.000000  1.000000   \n",
            "15  0.833333  3.333333e-01  0.833333  0.000000  0.833333  0.000000  0.000000   \n",
            "\n",
            "              x7        x8  \n",
            "0   0.000000e+00  0.000000  \n",
            "1  -5.551115e-17  0.900000  \n",
            "2   6.250000e-01  0.000000  \n",
            "3   1.000000e+00  1.000000  \n",
            "4   5.551115e-17  0.111111  \n",
            "5   8.750000e-01  0.875000  \n",
            "6   2.000000e-01  1.000000  \n",
            "7   1.000000e+00  1.000000  \n",
            "8   2.000000e-01  0.600000  \n",
            "9   7.142857e-01  1.000000  \n",
            "10  1.000000e+00  0.750000  \n",
            "11  8.333333e-01  0.666667  \n",
            "12  1.250000e-01  0.750000  \n",
            "13  6.666667e-01  0.166667  \n",
            "14  1.000000e+00  0.500000  \n",
            "15  0.000000e+00  0.833333  \n"
          ]
        }
      ]
    },
    {
      "cell_type": "code",
      "source": [
        "user = [1,1,1,1,1,0,1,0,0]\n",
        "distance = []\n",
        "clus_array = [i for i in range(kno)]\n",
        "for i in range(kno):\n",
        "    l = []\n",
        "    for j in range(9):\n",
        "        dist = (user[j]-centroid_df.iloc[[i],[j]].values)**2\n",
        "        l.append(dist)\n",
        "    dis = sum(l)\n",
        "    distance.append(float(dis))\n",
        "print(distance)\n",
        "for i in range(kno-1):\n",
        "    for j in range(kno-i-1):\n",
        "        if(distance[j]>distance[j+1]):\n",
        "            distance[j], distance[j+1] = distance[j+1], distance[j]\n",
        "            clus_array[j], clus_array[j+1] = clus_array[j+1], clus_array[j]\n",
        "print(clus_array)\n",
        "print(distance)"
      ],
      "metadata": {
        "colab": {
          "base_uri": "https://localhost:8080/"
        },
        "id": "_GC4I0AF3sGk",
        "outputId": "d671954b-6504-48e6-9b0f-4846f7f9f167"
      },
      "execution_count": 17,
      "outputs": [
        {
          "output_type": "stream",
          "name": "stdout",
          "text": [
            "[1.25, 3.7199999999999998, 4.171875, 2.5, 3.0617283950617282, 4.09375, 4.16, 5.120000000000001, 2.6, 5.224489795918367, 5.375, 3.5277777777777777, 4.515625, 2.111111111111111, 5.5, 3.222222222222222]\n",
            "[0, 13, 3, 8, 4, 15, 11, 1, 5, 6, 2, 12, 7, 9, 10, 14]\n",
            "[1.25, 2.111111111111111, 2.5, 2.6, 3.0617283950617282, 3.222222222222222, 3.5277777777777777, 3.7199999999999998, 4.09375, 4.16, 4.171875, 4.515625, 5.120000000000001, 5.224489795918367, 5.375, 5.5]\n"
          ]
        }
      ]
    }
  ],
  "metadata": {
    "colab": {
      "provenance": []
    },
    "kernelspec": {
      "display_name": "Python 3",
      "name": "python3"
    }
  },
  "nbformat": 4,
  "nbformat_minor": 0
}